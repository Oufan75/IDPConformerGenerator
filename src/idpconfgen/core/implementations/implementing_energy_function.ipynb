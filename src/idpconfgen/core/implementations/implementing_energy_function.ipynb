{
 "cells": [
  {
   "cell_type": "markdown",
   "metadata": {},
   "source": [
    "# Implementing Energy Function"
   ]
  },
  {
   "cell_type": "code",
   "execution_count": 1,
   "metadata": {},
   "outputs": [],
   "source": [
    "import xml.etree.ElementTree as ET\n",
    "from collections import defaultdict\n",
    "from math import tanh\n",
    "from pathlib import Path\n",
    "\n",
    "import numpy as np\n",
    "from matplotlib import pyplot as plt\n",
    "\n",
    "from idpconfgen.libs.libstructure import Structure, col_element\n",
    "\n",
    "%matplotlib inline"
   ]
  },
  {
   "cell_type": "markdown",
   "metadata": {},
   "source": [
    "## Preparating Structures and Parameters\n",
    "\n",
    "### Loading structures\n",
    "\n",
    "Here we will load two conformers, one clash-free and other with clashes, that were created by the current version of `IDPConfGen` where clashes were computed with a simple hard sphere clash optimization, which we want to optimize here via an energy function. We will use `Structure()` to extract the coordinates and labels of the conformers. Keep in mind that, when during the building process, coordinates and labels will be already in memory."
   ]
  },
  {
   "cell_type": "code",
   "execution_count": 2,
   "metadata": {},
   "outputs": [],
   "source": [
    "good = Path('conformer_good.pdb')\n",
    "bad = Path('conformer_bad.pdb')"
   ]
  },
  {
   "cell_type": "code",
   "execution_count": 15,
   "metadata": {},
   "outputs": [
    {
     "name": "stdout",
     "output_type": "stream",
     "text": [
      "['N' 'C' 'C' 'O' 'C' 'H' 'H' 'H' 'H' 'N' 'C' 'C' 'O' 'C' 'H' 'H' 'H' 'H'\n",
      " 'H' 'N']\n"
     ]
    }
   ],
   "source": [
    "# good\n",
    "gs = Structure(good)\n",
    "gs.build()\n",
    "gcoods = gs.coords\n",
    "\n",
    "# bad\n",
    "bs = Structure(bad)\n",
    "bs.build()\n",
    "bcoods = bs.coords\n",
    "\n",
    "# atoms labels are the same for both conformers\n",
    "elements = gs.data_array[:, col_element]\n",
    "print(elements[:20])"
   ]
  },
  {
   "cell_type": "markdown",
   "metadata": {},
   "source": [
    "### Loading parameters from Force Fields\n",
    "\n",
    "This is a crucial part as parameters need to be in tune with each other.\n",
    "\n",
    "I will build the parameters here as I implement the different energy functions."
   ]
  },
  {
   "cell_type": "code",
   "execution_count": 4,
   "metadata": {},
   "outputs": [],
   "source": [
    "# the original XML file was taken from the OpenMM repository\n",
    "# https://github.com/openmm/openmm/tree/master/wrappers/python/simtk/openmm/app/data\n",
    "with open('../data/protein.ff14SB.xml', 'r') as fin:\n",
    "    ff14SB = ET.fromstring(fin.read())"
   ]
  },
  {
   "cell_type": "code",
   "execution_count": 5,
   "metadata": {},
   "outputs": [],
   "source": [
    "forcefield_params = defaultdict(dict)\n",
    "for atom in ff14SB[-1][1:]:\n",
    "    \n",
    "    # simplistic approach using only element\n",
    "    atom_type = atom.attrib['type'].split('-')[-1]\n",
    "    \n",
    "    forcefield_params[atom_type]['epsilon'] = float(atom.attrib['epsilon'])\n",
    "    forcefield_params[atom_type]['sigma'] = float(atom.attrib['sigma'])"
   ]
  },
  {
   "cell_type": "code",
   "execution_count": 6,
   "metadata": {},
   "outputs": [
    {
     "data": {
      "text/plain": [
       "dict_keys(['C', 'CA', 'CB', 'CC', 'CN', 'CR', 'CT', 'CV', 'CW', 'C*', 'CX', 'H', 'HC', 'H1', 'HA', 'H4', 'H5', 'HO', 'HS', 'HP', 'N', 'NA', 'NB', 'N2', 'N3', 'O', 'O2', 'OH', 'S', 'SH', 'CO', '2C', '3C', 'C8'])"
      ]
     },
     "execution_count": 6,
     "metadata": {},
     "output_type": "execute_result"
    }
   ],
   "source": [
    "forcefield_params.keys()"
   ]
  },
  {
   "cell_type": "code",
   "execution_count": 7,
   "metadata": {},
   "outputs": [
    {
     "data": {
      "text/plain": [
       "{'epsilon': 0.359824, 'sigma': 0.3399669508423535}"
      ]
     },
     "execution_count": 7,
     "metadata": {},
     "output_type": "execute_result"
    }
   ],
   "source": [
    "forcefield_params['C']"
   ]
  },
  {
   "cell_type": "markdown",
   "metadata": {},
   "source": [
    "### Prepares data arrays\n",
    "\n",
    "Prepares data before performing calculations, in order to allow for parameters indexing."
   ]
  },
  {
   "cell_type": "code",
   "execution_count": 8,
   "metadata": {},
   "outputs": [
    {
     "name": "stdout",
     "output_type": "stream",
     "text": [
      "[0.71128  0.359824 0.359824 0.87864  0.359824]\n"
     ]
    }
   ],
   "source": [
    "epsilons = np.array([\n",
    "    forcefield_params[element]['epsilon']\n",
    "    for element in elements\n",
    "    ])\n",
    "print(epsilons[:5])"
   ]
  },
  {
   "cell_type": "code",
   "execution_count": 13,
   "metadata": {},
   "outputs": [
    {
     "name": "stdout",
     "output_type": "stream",
     "text": [
      "[0.93 0.94 0.94 0.92 0.94 0.77 0.77 0.77 0.77 0.93]\n"
     ]
    }
   ],
   "source": [
    "## WRONGGGG\n",
    "r_min = np.array([\n",
    "    (2 * forcefield_params[element]['sigma'])**(1/6)\n",
    "    for element in elements\n",
    "    ])\n",
    "print(np.round(r_min[:10], 2))"
   ]
  },
  {
   "cell_type": "code",
   "execution_count": 14,
   "metadata": {},
   "outputs": [
    {
     "name": "stdout",
     "output_type": "stream",
     "text": [
      "[0.36 0.38 0.38 0.33 0.38 0.12 0.12 0.12 0.12 0.36]\n"
     ]
    }
   ],
   "source": [
    "# these values have direct relationship with what reported in:\n",
    "# Chernyshov, I. Yu., Ananyev, I. V. & Pidko, E. A. Revisiting van der Waals Radii: From Comprehensive Structural Analysis to Knowledge‐Based Classification of Interatomic Contacts. Chemphyschem 21, 370–376 (2020).\n",
    "r_min = np.array([\n",
    "    2**(1/6) * forcefield_params[element]['sigma']\n",
    "    for element in elements\n",
    "    ])\n",
    "print(np.round(r_min[:10], 2))"
   ]
  },
  {
   "cell_type": "markdown",
   "metadata": {},
   "source": [
    "## Defining Energy Terms\n",
    "\n",
    "... and implementation"
   ]
  },
  {
   "cell_type": "markdown",
   "metadata": {},
   "source": [
    "### vdW term\n",
    "\n",
    "$$\n",
    "E_{vdW} = \n",
    "\\begin{cases}\n",
    "      \\infty, \\qquad\\qquad\\qquad\\qquad\\qquad\\quad r_{ij} < r_{ij}^{*} \\\\\n",
    "      4\\varepsilon_{ij}\\left[\\left(\\cfrac{\\sigma_{ij}}{r_{ij}}\\right)^{12} - \\left(\\cfrac{\\sigma_{ij}}{r_{ij}}\\right)^{6}\\right], \\qquad r_{ij} > r_{ij}^{*}\n",
    "    \\end{cases}\n",
    "$$\n",
    "\n",
    "Alternatively,\n",
    "\n",
    "$$\n",
    "E_{VDW} = \\cfrac{ACOEFF}{r^{12}_{ij}} - \\cfrac{BCOEFF}{r^{6}_{ij}}\n",
    "$$\n",
    "\n",
    "For this we can compute first-hand the $ACOEFF$ and $BCOEFF$, and rewrite the equation such that:\n",
    "\n",
    "$$\n",
    "ACOEFF = \\varepsilon_{ij} r^{12}_{0} \\\\\n",
    "BCOEFF = 2\\varepsilon_{ij} r^{6}_{0} \\\\\n",
    "\\varepsilon_{ij} = \\sqrt{\\varepsilon_{i}\\varepsilon_{j}} \\\\\n",
    "\\sigma_{ij} = \\cfrac{\\sigma_{i} + \\sigma_{j}}{2} \\\\\n",
    "r_{0} = \\sqrt[6]{2} \\cdot \\sigma_{ij} \\\\\n",
    "r^{*}_{ij} = \\alpha (r_{i} + r_{j}), \\quad \\alpha = 0.8\n",
    "$$"
   ]
  },
  {
   "cell_type": "code",
   "execution_count": 3,
   "metadata": {},
   "outputs": [
    {
     "data": {
      "text/plain": [
       "0.9307196001944212"
      ]
     },
     "execution_count": 3,
     "metadata": {},
     "output_type": "execute_result"
    }
   ],
   "source": [
    "(0.324999852378 * 2)**(1/6)"
   ]
  },
  {
   "cell_type": "markdown",
   "metadata": {},
   "source": [
    "#### Precomputing ACOEFF and BCOEFF\n",
    "\n",
    "$\\sigma$ and $\\varepsilon$ values are as extracted from the `protein.ff14SB.xml`."
   ]
  },
  {
   "cell_type": "code",
   "execution_count": 10,
   "metadata": {},
   "outputs": [],
   "source": [
    "def calc_e_ij(epsilons):\n",
    "    \"\"\"Calculate epsilon for ij pair.\"\"\"\n",
    "    indices = np.triu_indices(epsilons.size, k=+1)    \n",
    "    result = np.sqrt(np.outer(epsilons, epsilons)[indices])\n",
    "    assert result.size == (epsilons.size * epsilons.size - epsilons.size) // 2\n",
    "    return result"
   ]
  },
  {
   "cell_type": "code",
   "execution_count": 11,
   "metadata": {},
   "outputs": [
    {
     "data": {
      "text/plain": [
       "array([0.5059008 , 0.5059008 , 0.79054352, ..., 0.0656888 , 0.24024323,\n",
       "       0.24024323])"
      ]
     },
     "execution_count": 11,
     "metadata": {},
     "output_type": "execute_result"
    }
   ],
   "source": [
    "epsilons_ij = calc_e_ij(epsilons)\n",
    "epsilons_ij"
   ]
  },
  {
   "cell_type": "code",
   "execution_count": 12,
   "metadata": {},
   "outputs": [],
   "source": [
    "def calc_r0(rmin):\n",
    "    \"\"\"Calculates the r0 for all atom pairs.\"\"\"\n",
    "    indices = np.triu_indices(rmin.size, k=+1)\n",
    "    result = (rmin[:, None] + rmin)[indices]\n",
    "    _expected_size = (rmin.size * rmin.size - rmin.size) // 2\n",
    "    assert result.size == _expected_size, (result.size, _expected_size)\n",
    "    return result"
   ]
  },
  {
   "cell_type": "code",
   "execution_count": 13,
   "metadata": {},
   "outputs": [
    {
     "name": "stdout",
     "output_type": "stream",
     "text": [
      "[1.86844954 1.86844954 1.84704918 1.86844954 1.70400521]\n"
     ]
    }
   ],
   "source": [
    "r0 = calc_r0(r_min)\n",
    "print(r0[:5])"
   ]
  },
  {
   "cell_type": "markdown",
   "metadata": {},
   "source": [
    "## Effective Born Radius\n",
    "\n",
    "$$\n",
    "R^{-1}_{i} (\\mathring{A}) = \\widetilde{\\rho}^{-1}_{i} - \\rho^{-1}_{i} \\tanh(\\alpha\\Psi - \\beta\\Psi^{2} + \\gamma\\Psi^{3})\n",
    "$$\n",
    "\n",
    "Where,\n",
    "\n",
    "$$\n",
    "\\rho_{i} (\\text{atom radii in } \\mathring{A}) \\\\\n",
    "\\widetilde{\\rho}_{i} = \\rho_{i} - 0.09 \\\\\n",
    "\\Psi = I\\rho_{i} \\\\\n",
    "I = scaling factor \\\\\n",
    "\\begin{vmatrix}\n",
    "\t\\alpha \\\\\n",
    "\t\\beta \\\\\n",
    "\t\\gamma \n",
    "\\end{vmatrix}\\begin{vmatrix}\n",
    "\t0.8 & 1 \\\\\n",
    "\t0.0 & 0.8 \\\\\n",
    "\t2.91 & 4.85\n",
    "\\end{vmatrix}\n",
    "$$\n",
    "\n"
   ]
  },
  {
   "cell_type": "code",
   "execution_count": 34,
   "metadata": {},
   "outputs": [],
   "source": [
    "def calc_Ri(pi, a, b, g, I, ptilde=0.09):\n",
    "    \"\"\"Calculates Ri according to Onufriev 2004.\"\"\"\n",
    "    ppi = pi - ptilde\n",
    "    Y = I*ppi\n",
    "    return (ppi**-1 - pi**-1 * np.tanh(a*Y - b*Y**2 + g*Y**3))**(-1)"
   ]
  },
  {
   "cell_type": "markdown",
   "metadata": {},
   "source": [
    "### Demonstration of Ri\n",
    "\n",
    "Bellow we reproduce Fig. 1 from Onufriev *et. al.* 2004."
   ]
  },
  {
   "cell_type": "code",
   "execution_count": 36,
   "metadata": {},
   "outputs": [],
   "source": [
    "pi = 1.7  # for carbon atom\n",
    "\n",
    "# generate a series of scaling I\n",
    "I = np.linspace(0, 1, num=50)\n",
    "\n",
    "# using first set of scalars\n",
    "Ri_distribution_1 = calc_Ri(pi, 0.8, 0.0, 2.91, I)\n",
    "\n",
    "# using second set of scalars\n",
    "Ri_distribution_2 = calc_Ri(pi, 1, 0.8, 4.85, I)"
   ]
  },
  {
   "cell_type": "code",
   "execution_count": 38,
   "metadata": {},
   "outputs": [
    {
     "data": {
      "text/plain": [
       "[<matplotlib.lines.Line2D at 0x7fa350c944d0>]"
      ]
     },
     "execution_count": 38,
     "metadata": {},
     "output_type": "execute_result"
    },
    {
     "data": {
      "image/png": "[encoded data removed]",
      "text/plain": [
       "<Figure size 432x288 with 1 Axes>"
      ]
     },
     "metadata": {
      "needs_background": "light"
     },
     "output_type": "display_data"
    }
   ],
   "source": [
    "# plot results\n",
    "plt.plot(I, Ri_distribution_1, color='black')\n",
    "plt.plot(I, Ri_distribution_2, color='red')"
   ]
  },
  {
   "cell_type": "markdown",
   "metadata": {},
   "source": [
    "# General Python Tests"
   ]
  },
  {
   "cell_type": "code",
   "execution_count": 14,
   "metadata": {},
   "outputs": [
    {
     "name": "stdout",
     "output_type": "stream",
     "text": [
      "[['aa' 'ab' 'ac' 'ad']\n",
      " ['ba' 'bb' 'bc' 'bd']\n",
      " ['ca' 'cb' 'cc' 'cd']\n",
      " ['da' 'db' 'dc' 'dd']]\n"
     ]
    }
   ],
   "source": [
    "a  = np.char.array(list('abcd'))\n",
    "print(a[:,None]+a)"
   ]
  },
  {
   "cell_type": "code",
   "execution_count": 15,
   "metadata": {},
   "outputs": [
    {
     "data": {
      "text/plain": [
       "chararray(['a', 'b', 'c', 'd'], dtype='<U1')"
      ]
     },
     "execution_count": 15,
     "metadata": {},
     "output_type": "execute_result"
    }
   ],
   "source": [
    "a"
   ]
  },
  {
   "cell_type": "code",
   "execution_count": 16,
   "metadata": {},
   "outputs": [
    {
     "data": {
      "text/plain": [
       "chararray([['aa', 'ab', 'ac', 'ad'],\n",
       "           ['ba', 'bb', 'bc', 'bd'],\n",
       "           ['ca', 'cb', 'cc', 'cd'],\n",
       "           ['da', 'db', 'dc', 'dd']], dtype='<U2')"
      ]
     },
     "execution_count": 16,
     "metadata": {},
     "output_type": "execute_result"
    }
   ],
   "source": [
    "a[:,None]+a"
   ]
  },
  {
   "cell_type": "code",
   "execution_count": 17,
   "metadata": {},
   "outputs": [],
   "source": [
    "b = np.arange(9)\n",
    "b\n",
    "il2 = np.triu_indices(9, k=1)"
   ]
  },
  {
   "cell_type": "code",
   "execution_count": 18,
   "metadata": {},
   "outputs": [
    {
     "data": {
      "text/plain": [
       "array([ 1,  2,  3,  4,  5,  6,  7,  8,  3,  4,  5,  6,  7,  8,  9,  5,  6,\n",
       "        7,  8,  9, 10,  7,  8,  9, 10, 11,  9, 10, 11, 12, 11, 12, 13, 13,\n",
       "       14, 15])"
      ]
     },
     "execution_count": 18,
     "metadata": {},
     "output_type": "execute_result"
    }
   ],
   "source": [
    "(b[:, None]+b)[il2]"
   ]
  },
  {
   "cell_type": "code",
   "execution_count": null,
   "metadata": {},
   "outputs": [],
   "source": []
  },
  {
   "cell_type": "code",
   "execution_count": 19,
   "metadata": {},
   "outputs": [],
   "source": [
    "il1 = np.triu_indices(4, k=+1)"
   ]
  },
  {
   "cell_type": "code",
   "execution_count": 20,
   "metadata": {},
   "outputs": [
    {
     "data": {
      "text/plain": [
       "array([[ 0,  1,  2,  3],\n",
       "       [ 4,  5,  6,  7],\n",
       "       [ 8,  9, 10, 11],\n",
       "       [12, 13, 14, 15]])"
      ]
     },
     "execution_count": 20,
     "metadata": {},
     "output_type": "execute_result"
    }
   ],
   "source": [
    "a = np.arange(16).reshape(4, 4)\n",
    "a"
   ]
  },
  {
   "cell_type": "code",
   "execution_count": 21,
   "metadata": {},
   "outputs": [
    {
     "data": {
      "text/plain": [
       "array([ 1,  2,  3,  6,  7, 11])"
      ]
     },
     "execution_count": 21,
     "metadata": {},
     "output_type": "execute_result"
    }
   ],
   "source": [
    "a[il1]"
   ]
  },
  {
   "cell_type": "markdown",
   "metadata": {},
   "source": [
    "# Testing some values of the force field"
   ]
  },
  {
   "cell_type": "code",
   "execution_count": 29,
   "metadata": {},
   "outputs": [],
   "source": [
    "pi = 1.7\n",
    "ppi = pi - 0.09\n",
    "a = 0.8\n",
    "b = 0\n",
    "g = 2.91\n",
    "\n",
    "I = np.linspace(0, 1, num=50)\n",
    "Y = I*ppi\n",
    "\n",
    "eq = (ppi**-1 - pi**-1 * np.tanh(a*Y - b*Y**2 + g*Y**3))**(-1)\n",
    "eq2 = (ppi**-1 - pi**-1 * np.tanh(1*Y - 0.8*Y**2 + 4.85*Y**3))**(-1)"
   ]
  },
  {
   "cell_type": "code",
   "execution_count": 30,
   "metadata": {},
   "outputs": [],
   "source": []
  },
  {
   "cell_type": "code",
   "execution_count": 39,
   "metadata": {},
   "outputs": [],
   "source": [
    "import sympy"
   ]
  },
  {
   "cell_type": "code",
   "execution_count": 60,
   "metadata": {},
   "outputs": [],
   "source": [
    "rr = sympy.Symbol('r')\n",
    "rho = sympy.Symbol('rho')"
   ]
  },
  {
   "cell_type": "code",
   "execution_count": 61,
   "metadata": {},
   "outputs": [
    {
     "data": {
      "text/latex": [
       "$\\displaystyle - \\frac{3 r - 2 \\rho}{6 r^{3}}$"
      ],
      "text/plain": [
       "-(3*r - 2*rho)/(6*r**3)"
      ]
     },
     "execution_count": 61,
     "metadata": {},
     "output_type": "execute_result"
    }
   ],
   "source": [
    "sympy.integrate((rr-rho)*(1/rr**4), rr)"
   ]
  },
  {
   "cell_type": "code",
   "execution_count": null,
   "metadata": {},
   "outputs": [],
   "source": []
  }
 ],
 "metadata": {
  "kernelspec": {
   "display_name": "Python 3",
   "language": "python",
   "name": "python3"
  },
  "language_info": {
   "codemirror_mode": {
    "name": "ipython",
    "version": 3
   },
   "file_extension": ".py",
   "mimetype": "text/x-python",
   "name": "python",
   "nbconvert_exporter": "python",
   "pygments_lexer": "ipython3",
   "version": "3.7.6"
  }
 },
 "nbformat": 4,
 "nbformat_minor": 4
}
